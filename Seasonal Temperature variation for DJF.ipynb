{
 "cells": [
  {
   "cell_type": "code",
   "execution_count": null,
   "id": "2b650a1c-7c4e-40b2-add7-2fd20d963656",
   "metadata": {
    "tags": []
   },
   "outputs": [],
   "source": [
    "# Importing libraries\n",
    "import xarray as xr\n",
    "import cartopy.crs as ccrs\n",
    "import matplotlib.pyplot as plt\n",
    "import numpy as np\n",
    "import pandas as pd\n",
    "import cartopy.feature as cfeature\n",
    "import cartopy.feature as cf\n",
    "\n",
    "# open the data set\n",
    "ds = xr.open_dataset(\"/work/uo1075/u301680/tas_data/data_reserve/tas_1850_2014.nc\")"
   ]
  },
  {
   "cell_type": "code",
   "execution_count": null,
   "id": "5c00aa22-18eb-47bd-b1e0-10dc0299605a",
   "metadata": {
    "tags": []
   },
   "outputs": [],
   "source": [
    "# Open the dataset after cutting the file which includes only  europe \n",
    "ds = xr.open_dataset(\"/work/uo1075/u301680/tas_data/data_reserve/tas_europe.nc\")\n",
    "\n",
    "\n",
    "# Select time periods\n",
    "periods = [('1850', '1879'), ('1880', '1909'), ('1910', '1939'),\n",
    "           ('1940', '1969'), ('1970', '1999'), ('2000', '2014')]\n",
    "\n",
    "# Calculate seasonal means for each period\n",
    "climatology = []\n",
    "for period in periods:\n",
    "    data = ds.sel(time=slice(*period))\n",
    "    clim = data['tas'].groupby('time.season').mean('time').sel(season=\"DJF\")\n",
    "    climatology.append(clim)\n",
    "\n",
    "# Calculate differences from the reference period\n",
    "diffs = [clim -climatology[0] for clim in climatology]\n",
    "\n",
    "# Create a Cartopy projection\n",
    "projection = ccrs.PlateCarree()\n",
    "\n",
    "# Create a figure and axes with Cartopy projection\n",
    "fig, axes = plt.subplots(nrows=2, ncols=3, figsize=(14, 8), subplot_kw={'projection': projection})\n",
    "\n",
    "# # Add coastlines and gridlines to the axes\n",
    "for ax in axes.flat:\n",
    "    ax.coastlines()\n",
    "    ax.gridlines()\n",
    "\n",
    "# Plot the differences using subplots\n",
    "for i, ax in enumerate(axes.flat):\n",
    "    diff = diffs[i]\n",
    "    cs = diff.plot(ax=ax, transform=projection, cmap='coolwarm', vmin=-4, vmax=4, cbar_kwargs={\"shrink\": 0.5},extend='both')\n",
    "    ax.set_title(periods[i])\n",
    "    fig.suptitle('Seasonal Temperature changes for DJF', fontsize=20)\n",
    "\n",
    "    \n",
    "plt.tight_layout()\n",
    "plt.savefig('mstvSAT')\n",
    "plt.show()"
   ]
  },
  {
   "cell_type": "code",
   "execution_count": null,
   "id": "d30d8b52-6eab-4fc9-a298-540b749c6f4c",
   "metadata": {},
   "outputs": [],
   "source": []
  },
  {
   "cell_type": "code",
   "execution_count": null,
   "id": "f035eed2-080b-4152-a3cb-383105c59406",
   "metadata": {},
   "outputs": [],
   "source": []
  }
 ],
 "metadata": {
  "kernelspec": {
   "display_name": "Python 3 (based on the module python3/2023.01)",
   "language": "python",
   "name": "python3_2023_01"
  },
  "language_info": {
   "codemirror_mode": {
    "name": "ipython",
    "version": 3
   },
   "file_extension": ".py",
   "mimetype": "text/x-python",
   "name": "python",
   "nbconvert_exporter": "python",
   "pygments_lexer": "ipython3",
   "version": "3.10.10"
  }
 },
 "nbformat": 4,
 "nbformat_minor": 5
}
